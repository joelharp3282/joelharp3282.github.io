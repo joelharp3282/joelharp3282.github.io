{
 "cells": [
  {
   "cell_type": "markdown",
   "metadata": {},
   "source": [
    "# This is an example of the I wrote for a spatial programming class."
   ]
  },
  {
   "cell_type": "markdown",
   "metadata": {},
   "source": [
    "## Nested Conditional Statements for Language or Precinct."
   ]
  },
  {
   "cell_type": "markdown",
   "metadata": {},
   "source": [
    "### For precinct input the select function is utilized for visiualization."
   ]
  },
  {
   "cell_type": "code",
   "execution_count": null,
   "metadata": {},
   "outputs": [],
   "source": [
    "# Trying to set up the conditionals for the different languages that were most likely to be asked.\n",
    "# More languages could be added as needed.\n",
    "\n",
    "actionNeed = input(\"Please select language or Precinct Number please: \") # user inputs what they are looking help for.\n",
    "\n",
    "if actionNeed.lower() == \"language\": # if language the nested conditional provides different answers for different languages.\n",
    "    langNeed = input(\"Please Provide language needed: \")\n",
    "    if langNeed.lower() == \"spanish\":\n",
    "        print(\"Spanish is already available on all Florida ballots.\")\n",
    "    elif langNeed.lower() == \"english\":\n",
    "        print(\"English is already available on all Florida ballots.\")\n",
    "    elif langNeed.lower() == \"creole\":\n",
    "        print(\"This language can be requested on a ballot by calling the Supervisor of Elections Office.\")\n",
    "    else:\n",
    "        print(\"Please contact the Supervior of Elections Office to coordinate other languages via phone.\") # for all languages not considered above\n",
    "        \n",
    "elif actionNeed == \"Precinct Number\": # if precinct is selected it would provide the answer below and shows just the one location on the map.\n",
    "    numNeed = input(\"Please provide your Precinct Number: \")\n",
    "    print(\"All Florida ballots are printed in English and Spanish, other languages are available via phone.\")\n",
    "    userquery = '\"{0}\"= \\'{1}\\''.format(\"Precinct N\", numNeed) # this formats the users input with the proper column to highlight which locations was input\n",
    "    print(userquery)\n",
    "    import arcpy\n",
    "    arcpy.env.workspace = \"C:/Users/marco/Desktop/Term_Project_Python/StateData/precinct_126_coord\" # workspace for the precinct locations\n",
    "    arcpy.analysis.Select(\"precinct_coord-point.shp\", \"C:/Users/marco/Desktop/Term_Project_Python/StateData/precinct_location\", userquery)"
   ]
  }
 ],
 "metadata": {
  "kernelspec": {
   "display_name": "Python 3 (ipykernel)",
   "language": "python",
   "name": "python3"
  },
  "language_info": {
   "codemirror_mode": {
    "name": "ipython",
    "version": 3
   },
   "file_extension": ".py",
   "mimetype": "text/x-python",
   "name": "python",
   "nbconvert_exporter": "python",
   "pygments_lexer": "ipython3",
   "version": "3.9.12"
  }
 },
 "nbformat": 4,
 "nbformat_minor": 2
}
